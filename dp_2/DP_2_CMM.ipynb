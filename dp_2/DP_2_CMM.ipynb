{
 "cells": [
  {
   "cell_type": "code",
   "execution_count": 1,
   "id": "f6af4019-d86a-4406-8f46-51b7325efd69",
   "metadata": {},
   "outputs": [],
   "source": [
    "import numpy as np\n",
    "import pandas as pd\n",
    "import matplotlib.pyplot as plt\n",
    "import time"
   ]
  },
  {
   "cell_type": "code",
   "execution_count": 16,
   "id": "34a9a769-5ced-4a9b-b2ad-63759ac8b560",
   "metadata": {},
   "outputs": [],
   "source": [
    "def cmm(X):\n",
    "    num_matrix = len(X)//2\n",
    "    print(num_matrix)\n",
    "    table = np.zeros((num_matrix, num_matrix))\n",
    "    for i in range(num_matrix - 1):\n",
    "        for j in range(num_matrix - 1 - i):\n",
    "            k = j + i + 1\n",
    "            table[j, k] = np.inf\n",
    "            for l in range(j, k):\n",
    "                cost = table[j, l] + table[l + 1, k] + X[2 * j] * X[2 * l + 1] * X[2 * k + 1]\n",
    "                if cost < table[j, k]:\n",
    "                    table[j, k] = cost\n",
    "    print(table)\n",
    "    return table[0, num_matrix - 1]"
   ]
  },
  {
   "cell_type": "code",
   "execution_count": 17,
   "id": "d5e45e40-e732-4662-a6ed-53494e6b761f",
   "metadata": {},
   "outputs": [],
   "source": [
    "X = [2, 3, 3, 4, 4, 5, 5, 6]"
   ]
  },
  {
   "cell_type": "code",
   "execution_count": 18,
   "id": "daf83580-b391-4da1-999e-9a383babbbbc",
   "metadata": {},
   "outputs": [
    {
     "name": "stdout",
     "output_type": "stream",
     "text": [
      "4\n",
      "[[  0.  24.  64. 124.]\n",
      " [  0.   0.  60. 150.]\n",
      " [  0.   0.   0. 120.]\n",
      " [  0.   0.   0.   0.]]\n"
     ]
    },
    {
     "data": {
      "text/plain": [
       "np.float64(124.0)"
      ]
     },
     "execution_count": 18,
     "metadata": {},
     "output_type": "execute_result"
    }
   ],
   "source": [
    "cmm(X)"
   ]
  }
 ],
 "metadata": {
  "kernelspec": {
   "display_name": "Python 3 (ipykernel)",
   "language": "python",
   "name": "python3"
  },
  "language_info": {
   "codemirror_mode": {
    "name": "ipython",
    "version": 3
   },
   "file_extension": ".py",
   "mimetype": "text/x-python",
   "name": "python",
   "nbconvert_exporter": "python",
   "pygments_lexer": "ipython3",
   "version": "3.10.18"
  }
 },
 "nbformat": 4,
 "nbformat_minor": 5
}
