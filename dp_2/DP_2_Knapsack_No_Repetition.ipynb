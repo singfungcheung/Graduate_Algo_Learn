{
 "cells": [
  {
   "cell_type": "code",
   "execution_count": 1,
   "id": "3306f2b9-15a1-470a-853a-c0172583ea91",
   "metadata": {},
   "outputs": [],
   "source": [
    "import numpy as np\n",
    "import pandas as pd\n",
    "import matplotlib.pyplot as plt\n",
    "import time"
   ]
  },
  {
   "cell_type": "markdown",
   "id": "fe8f1904-0995-4fd7-bdc0-14552555c608",
   "metadata": {},
   "source": [
    "Given weights, value, and capacity."
   ]
  },
  {
   "cell_type": "code",
   "execution_count": 12,
   "id": "8f3ce4b3-51a5-42c1-a216-7b53cdeb9759",
   "metadata": {},
   "outputs": [],
   "source": [
    "def ks(w, v, c):\n",
    "    # Create a matrix that is len(x) + 1 by len(y) + 1\n",
    "    m = len(w)\n",
    "    # n = len(v)\n",
    "\n",
    "    dp = np.zeros((m + 1, c + 1), dtype = int)\n",
    "\n",
    "    for i in range(1, m + 1):\n",
    "        for j in range(1, c + 1):\n",
    "            if w[i - 1] <= j:\n",
    "                dp[i, j] = max(v[i - 1] + dp[i - 1, j - w[i - 1]], dp[i - 1, j])\n",
    "                # Which is more valuable? As is or if we remove the weight that is equivalent to the current weight and add it's value?\n",
    "            else:\n",
    "                dp[i, j] = dp[i - 1, j] # Doesn't fit. So even if it is worth an infinite amount it can't be added. So just move down the value from whatever is above it.\n",
    "    print(dp)\n",
    "\n",
    "    # Iterate backwards to find the items\n",
    "    i = m\n",
    "    j = c\n",
    "    items = []\n",
    "    while dp[i, j] != 0:\n",
    "        if dp[i - 1, j] != dp[i, j] and dp[i, j - 1] != dp[i, j]:\n",
    "            i = i - 1\n",
    "            j = j - 1\n",
    "            items.append(i - 1)\n",
    "        elif dp[i - 1, j] > dp[i, j - 1]:\n",
    "            # move up\n",
    "            i = i - 1\n",
    "        elif \n",
    "    return dp[m, c]"
   ]
  },
  {
   "cell_type": "code",
   "execution_count": 13,
   "id": "30a92085-d07a-4565-b7df-98fe7afa3d81",
   "metadata": {},
   "outputs": [
    {
     "name": "stdout",
     "output_type": "stream",
     "text": [
      "[[ 0  0  0  0  0  0  0  0  0  0  0  0  0  0  0  0  0  0  0  0  0  0  0]\n",
      " [ 0  0  0  0  0  0  0  0  0  0  0  0  0  0  0 15 15 15 15 15 15 15 15]\n",
      " [ 0  0  0  0  0  0  0  0  0  0  0  0 10 10 10 15 15 15 15 15 15 15 15]\n",
      " [ 0  0  0  0  0  0  0  0  0  0  8  8 10 10 10 15 15 15 15 15 15 15 18]\n",
      " [ 0  0  0  0  0  1  1  1  1  1  8  8 10 10 10 15 15 15 15 15 16 16 18]]\n"
     ]
    },
    {
     "data": {
      "text/plain": [
       "np.int64(18)"
      ]
     },
     "execution_count": 13,
     "metadata": {},
     "output_type": "execute_result"
    }
   ],
   "source": [
    "v = [15, 10, 8, 1]\n",
    "w = [15, 12, 10, 5]\n",
    "c = 22\n",
    "ks(w, v, c)"
   ]
  },
  {
   "cell_type": "code",
   "execution_count": 14,
   "id": "fb99d50b-e4fe-4626-88d2-221ba7a64843",
   "metadata": {},
   "outputs": [
    {
     "name": "stdout",
     "output_type": "stream",
     "text": [
      "[[0 0 0 0 0 0]\n",
      " [0 0 0 0 0 2]\n",
      " [0 2 2 2 2 2]\n",
      " [0 4 6 6 6 6]\n",
      " [0 4 6 6 6 6]]\n"
     ]
    },
    {
     "data": {
      "text/plain": [
       "np.int64(6)"
      ]
     },
     "execution_count": 14,
     "metadata": {},
     "output_type": "execute_result"
    }
   ],
   "source": [
    "v = [2, 2, 4, 1]\n",
    "w = [5, 1, 1, 4]\n",
    "c = 5\n",
    "ks(w, v, c)"
   ]
  },
  {
   "cell_type": "code",
   "execution_count": null,
   "id": "a83bef67-11f8-4ca0-baa9-b7c08f5e95bc",
   "metadata": {},
   "outputs": [],
   "source": []
  }
 ],
 "metadata": {
  "kernelspec": {
   "display_name": "Python 3 (ipykernel)",
   "language": "python",
   "name": "python3"
  },
  "language_info": {
   "codemirror_mode": {
    "name": "ipython",
    "version": 3
   },
   "file_extension": ".py",
   "mimetype": "text/x-python",
   "name": "python",
   "nbconvert_exporter": "python",
   "pygments_lexer": "ipython3",
   "version": "3.10.18"
  }
 },
 "nbformat": 4,
 "nbformat_minor": 5
}
