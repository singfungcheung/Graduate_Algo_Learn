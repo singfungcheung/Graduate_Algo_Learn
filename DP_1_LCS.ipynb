{
 "cells": [
  {
   "cell_type": "code",
   "execution_count": 1,
   "id": "d720ba6c-c30d-4f18-a99e-de56f7f2aac1",
   "metadata": {},
   "outputs": [],
   "source": [
    "import numpy as np\n",
    "import pandas as pd\n",
    "import matplotlib.pyplot as plt\n",
    "import time"
   ]
  },
  {
   "cell_type": "markdown",
   "id": "4f59a5d3-7fdd-4896-a693-b714afd0e144",
   "metadata": {},
   "source": [
    "Input: 2 strings X = x_1,...,x_n and Y = y_1,...,y_n\n",
    "\n",
    "Goal: Find the length of the longest string which is a subsequence of both X & Y\n",
    "\n",
    "Example:\n",
    "\n",
    "X = B, C, D, B, C, D, A\n",
    "\n",
    "Y = A, B, E, C, B, A, B\n",
    "\n",
    "The length of LCS is 4 (B,C,B,A)"
   ]
  },
  {
   "cell_type": "markdown",
   "id": "70585e45-6034-458c-a3f9-41939942a08d",
   "metadata": {},
   "source": [
    "First, we define the sub-problem in words:\n",
    "\n",
    "For i where i = [0, n],\n",
    "\n",
    "L(i) = length of LCS between: \n",
    "\n",
    "X_1,...,X_i and Y_1,...,Y-i.\n",
    "\n",
    "Second, state recursive relation (express L(i) in terms fo L(1),...,L(i - 1):\n",
    "\n",
    "Case when x_i == y_i, then **L(i, j) = 1 + L(i - 1, j - 1)**\n",
    "\n",
    "Case when x_i != y_i, then **max(L(i - 1, j), L(i, j - 1))**"
   ]
  },
  {
   "cell_type": "code",
   "execution_count": 2,
   "id": "9c478182-8375-4e1e-b926-09738897cec0",
   "metadata": {},
   "outputs": [
    {
     "name": "stdout",
     "output_type": "stream",
     "text": [
      "[[0 0 0 0]\n",
      " [0 1 1 1]\n",
      " [0 1 2 2]\n",
      " [0 1 2 3]\n",
      " [0 1 2 3]\n",
      " [0 1 2 3]]\n",
      "abc\n"
     ]
    },
    {
     "data": {
      "text/plain": [
       "np.int64(3)"
      ]
     },
     "execution_count": 2,
     "metadata": {},
     "output_type": "execute_result"
    }
   ],
   "source": [
    "# Implmenting from ODA seminar:\n",
    "def oda(X, Y):\n",
    "    # First break down the strings into ['a', 'b', 'c'] etc.\n",
    "    x = [i for i in X]\n",
    "    y = [i for i in Y]\n",
    "\n",
    "    # Create a matrix that is len(x) + 1 by len(y) + 1\n",
    "    m = len(x)\n",
    "    n = len(y)\n",
    "\n",
    "    dp = np.zeros((m + 1, n + 1), dtype = int)\n",
    "    # print(dp.shape) # (6, 4)\n",
    "    # print(dp) # Ok looks good\n",
    "    diff = \"\"\n",
    "    for i in range(1, m + 1):\n",
    "        for j in range(1, n + 1):\n",
    "            if x[i - 1] == y[j - 1]:\n",
    "                dp[i, j] = dp[i - 1, j - 1] + 1\n",
    "                diff += x[i - 1]\n",
    "            else:\n",
    "                dp[i, j] = max(dp[i, j - 1], dp[i - 1, j])\n",
    "    print(dp)\n",
    "    print(diff)\n",
    "    return dp[m, n]\n",
    "oda(\"abcde\", \"abc\")"
   ]
  }
 ],
 "metadata": {
  "kernelspec": {
   "display_name": "Python 3 (ipykernel)",
   "language": "python",
   "name": "python3"
  },
  "language_info": {
   "codemirror_mode": {
    "name": "ipython",
    "version": 3
   },
   "file_extension": ".py",
   "mimetype": "text/x-python",
   "name": "python",
   "nbconvert_exporter": "python",
   "pygments_lexer": "ipython3",
   "version": "3.10.18"
  }
 },
 "nbformat": 4,
 "nbformat_minor": 5
}
