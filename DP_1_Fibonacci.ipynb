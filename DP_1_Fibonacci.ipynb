{
 "cells": [
  {
   "cell_type": "code",
   "execution_count": 1,
   "id": "7706b744-1242-454d-969c-12a4aa74cde3",
   "metadata": {},
   "outputs": [],
   "source": [
    "import numpy as np\n",
    "import pandas as pd\n",
    "import matplotlib.pyplot as plt\n",
    "import time"
   ]
  },
  {
   "cell_type": "markdown",
   "id": "da5a6ff9-1dee-4fa7-a5ee-2d0af9923429",
   "metadata": {},
   "source": [
    "## Fibonacci"
   ]
  },
  {
   "cell_type": "markdown",
   "id": "048956dd-8257-4945-89ff-94c0897c3efe",
   "metadata": {},
   "source": [
    "### Method 1: Recursive"
   ]
  },
  {
   "cell_type": "code",
   "execution_count": 2,
   "id": "29da5818-d6db-46eb-b763-ef6633ff0453",
   "metadata": {},
   "outputs": [],
   "source": [
    "# Method 1: Recursive\n",
    "def fib_1(n):\n",
    "    if n == 0:\n",
    "        return 0\n",
    "    if n == 1:\n",
    "        return 1\n",
    "    return fib_1(n - 1) + fib_1(n - 2)"
   ]
  },
  {
   "cell_type": "code",
   "execution_count": 3,
   "id": "80f76e2d-b9ba-43cb-842f-746f6ceb09d4",
   "metadata": {},
   "outputs": [
    {
     "name": "stdout",
     "output_type": "stream",
     "text": [
      "9227465\n",
      "3.66 seconds\n"
     ]
    }
   ],
   "source": [
    "start_time = time.time()\n",
    "print(fib_1(35))\n",
    "end_time = time.time()\n",
    "print(f'{(end_time - start_time):.2f}', 'seconds')"
   ]
  },
  {
   "cell_type": "code",
   "execution_count": 4,
   "id": "45dc9b1e-29b3-46d4-ab48-37df0fbd5554",
   "metadata": {},
   "outputs": [],
   "source": [
    "#fib_1(100) # Don't run this. Very slow."
   ]
  },
  {
   "cell_type": "markdown",
   "id": "c604dde6-79d4-445b-8eae-f920d38c3861",
   "metadata": {},
   "source": [
    "The reason why this is so slow is because this runs on O(2^n) time."
   ]
  },
  {
   "cell_type": "markdown",
   "id": "80294769-702c-49b5-887c-60de7d72f430",
   "metadata": {},
   "source": [
    "### Method 2: Dynamic Programming (bottom up)"
   ]
  },
  {
   "cell_type": "code",
   "execution_count": 5,
   "id": "1f267181-dd01-4a81-9819-9ca017e32427",
   "metadata": {},
   "outputs": [],
   "source": [
    "# Method 2: Dynamic Programming (bottom up)\n",
    "def fib_2(n):\n",
    "    fibs = [] # O(1)\n",
    "    fibs.append(0) # O(1)\n",
    "    fibs.append(1) # O(1)\n",
    "    for i in range(2, n + 1):\n",
    "        fibs.append(fibs[i - 1] + fibs[i - 2]) # O(n)\n",
    "    return fibs[n]"
   ]
  },
  {
   "cell_type": "code",
   "execution_count": 6,
   "id": "7de81f70-3ccd-445c-9112-2d478258c771",
   "metadata": {},
   "outputs": [
    {
     "name": "stdout",
     "output_type": "stream",
     "text": [
      "9969216677189303386214405760200\n",
      "0.00036740 seconds\n"
     ]
    }
   ],
   "source": [
    "start_time = time.time()\n",
    "print(fib_2(150))\n",
    "end_time = time.time()\n",
    "print(f'{(end_time - start_time):.8f}', 'seconds')"
   ]
  },
  {
   "cell_type": "code",
   "execution_count": 7,
   "id": "9cfdd039-4568-40c1-9fbb-46d09d700def",
   "metadata": {},
   "outputs": [
    {
     "name": "stdout",
     "output_type": "stream",
     "text": [
      "222232244629420445529739893461909967206666939096499764990979600\n",
      "0.00063682 seconds\n"
     ]
    }
   ],
   "source": [
    "start_time = time.time()\n",
    "print(fib_2(300))\n",
    "end_time = time.time()\n",
    "print(f'{(end_time - start_time):.8f}', 'seconds')"
   ]
  },
  {
   "cell_type": "markdown",
   "id": "641753ba-6ea2-45ff-8b0a-01c48b7427dc",
   "metadata": {},
   "source": [
    "So now this is way faster because instead of O(2^n), it is O(n) time."
   ]
  },
  {
   "cell_type": "code",
   "execution_count": 8,
   "id": "5a04db8c-30c8-40f4-abbe-415c46c90425",
   "metadata": {},
   "outputs": [],
   "source": [
    "# Let's optimize.\n",
    "fibs = []\n",
    "fibs.append(0)\n",
    "fibs.append(1)\n",
    "def fib_2_optim(n):\n",
    "    # See if element is already in the array. If it is, return it.\n",
    "    if n + 1 <= len(fibs):\n",
    "        return fibs[n]\n",
    "    for i in range(len(fibs), n + 1):\n",
    "        fibs.append(fibs[i - 1] + fibs[i - 2])\n",
    "    return fibs[n]"
   ]
  },
  {
   "cell_type": "code",
   "execution_count": 9,
   "id": "b32cb02c-1b96-4153-9755-10f88127aecb",
   "metadata": {},
   "outputs": [
    {
     "name": "stdout",
     "output_type": "stream",
     "text": [
      "9969216677189303386214405760200\n",
      "0.00030756 seconds\n"
     ]
    }
   ],
   "source": [
    "start_time = time.time()\n",
    "print(fib_2_optim(150))\n",
    "end_time = time.time()\n",
    "print(f'{(end_time - start_time):.8f}', 'seconds')"
   ]
  },
  {
   "cell_type": "code",
   "execution_count": 10,
   "id": "2f292043-e256-4c96-aa16-c0039c9fc077",
   "metadata": {},
   "outputs": [
    {
     "name": "stdout",
     "output_type": "stream",
     "text": [
      "222232244629420445529739893461909967206666939096499764990979600\n",
      "0.00043797 seconds\n"
     ]
    }
   ],
   "source": [
    "start_time = time.time()\n",
    "print(fib_2_optim(300))\n",
    "end_time = time.time()\n",
    "print(f'{(end_time - start_time):.8f}', 'seconds')"
   ]
  },
  {
   "cell_type": "markdown",
   "id": "236584fd-caa4-4311-a963-66e94e44eabe",
   "metadata": {},
   "source": [
    "This is still O(n), but should take less runtime."
   ]
  }
 ],
 "metadata": {
  "kernelspec": {
   "display_name": "Python 3 (ipykernel)",
   "language": "python",
   "name": "python3"
  },
  "language_info": {
   "codemirror_mode": {
    "name": "ipython",
    "version": 3
   },
   "file_extension": ".py",
   "mimetype": "text/x-python",
   "name": "python",
   "nbconvert_exporter": "python",
   "pygments_lexer": "ipython3",
   "version": "3.10.18"
  }
 },
 "nbformat": 4,
 "nbformat_minor": 5
}
