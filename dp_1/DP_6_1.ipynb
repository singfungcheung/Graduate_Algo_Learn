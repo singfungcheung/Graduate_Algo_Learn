{
 "cells": [
  {
   "cell_type": "code",
   "execution_count": 1,
   "id": "7974302c-e353-41a8-bd62-7b84fae4755d",
   "metadata": {},
   "outputs": [],
   "source": [
    "import numpy as np\n",
    "import pandas as pd\n",
    "import matplotlib.pyplot as plt\n",
    "import time"
   ]
  },
  {
   "cell_type": "markdown",
   "id": "5ba9c89b-4a04-42b9-bd7d-c0bb29f40881",
   "metadata": {},
   "source": [
    "## My attempt"
   ]
  },
  {
   "cell_type": "code",
   "execution_count": 2,
   "id": "ac95a8f1-370b-4f08-815a-3a5c98587abe",
   "metadata": {},
   "outputs": [],
   "source": [
    "def dp_6_1(x):\n",
    "    len_x = len(x)\n",
    "    if not len_x:\n",
    "        return \"No length\"\n",
    "\n",
    "    indicies = [0]\n",
    "    s = [x[0]]\n",
    "    max_index = 0\n",
    "    for i in range(1, len_x): # O(n)\n",
    "        if x[i] + s[i - 1] > x[i]:\n",
    "            indicies.append(indicies[i - 1])\n",
    "            s.append(x[i] + s[i - 1])\n",
    "            if s[i] > s[max_index]:\n",
    "                max_index = i\n",
    "        else:\n",
    "            indicies.append(i)\n",
    "            s.append(x[i])\n",
    "\n",
    "    # Print out the sequence\n",
    "    print(x[indicies[max_index]: max_index + 1]) # In non python code, it would be O(n)\n",
    "\n",
    "    return s[max_index]"
   ]
  },
  {
   "cell_type": "code",
   "execution_count": 3,
   "id": "94176405-f24b-4611-928e-311333ccf955",
   "metadata": {},
   "outputs": [
    {
     "name": "stdout",
     "output_type": "stream",
     "text": [
      "[10, -5, 40, 10]\n"
     ]
    },
    {
     "data": {
      "text/plain": [
       "55"
      ]
     },
     "execution_count": 3,
     "metadata": {},
     "output_type": "execute_result"
    }
   ],
   "source": [
    "x = [5, 15, -30, 10, -5, 40, 10]\n",
    "\n",
    "dp_6_1(x)"
   ]
  },
  {
   "cell_type": "markdown",
   "id": "24e494a3-e2c4-45f3-a1cd-0629a6765c0c",
   "metadata": {},
   "source": [
    "Looks like prof only considered the sum and not the subsequence. Can ask on Ed."
   ]
  }
 ],
 "metadata": {
  "kernelspec": {
   "display_name": "Python 3 (ipykernel)",
   "language": "python",
   "name": "python3"
  },
  "language_info": {
   "codemirror_mode": {
    "name": "ipython",
    "version": 3
   },
   "file_extension": ".py",
   "mimetype": "text/x-python",
   "name": "python",
   "nbconvert_exporter": "python",
   "pygments_lexer": "ipython3",
   "version": "3.10.18"
  }
 },
 "nbformat": 4,
 "nbformat_minor": 5
}
