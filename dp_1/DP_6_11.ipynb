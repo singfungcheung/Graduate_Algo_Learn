{
 "cells": [
  {
   "cell_type": "code",
   "execution_count": 1,
   "id": "240f7809-4944-43c4-a9e2-d20d31fbcd07",
   "metadata": {},
   "outputs": [],
   "source": [
    "import numpy as np\n",
    "import pandas as pd\n",
    "import matplotlib.pyplot as plt\n",
    "import time"
   ]
  },
  {
   "cell_type": "markdown",
   "id": "dcbe4dbd-02d8-446d-869c-d8bcbb117678",
   "metadata": {},
   "source": [
    "This problem is same as lecture, except instead of subsequence, we are working with **substring.**"
   ]
  },
  {
   "cell_type": "markdown",
   "id": "2819d16d-c47b-4d90-bcca-c6c99908dfb9",
   "metadata": {},
   "source": [
    "## My Attempt"
   ]
  },
  {
   "cell_type": "code",
   "execution_count": 4,
   "id": "62cadab0-a2fa-4b91-b04a-cbc5e8e0078c",
   "metadata": {},
   "outputs": [],
   "source": [
    "def dp_6_11(X, Y):\n",
    "    # First break down the strings into ['a', 'b', 'c'] etc.\n",
    "    x = [i for i in X]\n",
    "    y = [i for i in Y]\n",
    "\n",
    "    # Create a matrix that is len(x) + 1 by len(y) + 1\n",
    "    m = len(x)\n",
    "    n = len(y)\n",
    "\n",
    "    dp = np.zeros((m + 1, n + 1), dtype = int)\n",
    "\n",
    "    i_index = j_index = -1\n",
    "    max_length = 0\n",
    "    for i in range(1, m + 1):\n",
    "        for j in range(1, n + 1):\n",
    "            if x[i - 1] == y[j - 1]:\n",
    "                dp[i, j] = 1 + dp[i - 1, j - 1]\n",
    "                if dp[i, j] > max_length:\n",
    "                    max_length = dp[i, j]\n",
    "                    i_index = i\n",
    "                    j_index = j\n",
    "            else:\n",
    "                dp[i, j] = 0\n",
    "\n",
    "    print(x[i - max_length:i])\n",
    "    print(max_length)\n",
    "    return max_length"
   ]
  },
  {
   "cell_type": "code",
   "execution_count": 5,
   "id": "04fc8d51-19a6-4810-b86c-e6867ec42e5b",
   "metadata": {},
   "outputs": [
    {
     "name": "stdout",
     "output_type": "stream",
     "text": [
      "['x', 'y', 'z']\n",
      "3\n"
     ]
    },
    {
     "data": {
      "text/plain": [
       "np.int64(3)"
      ]
     },
     "execution_count": 5,
     "metadata": {},
     "output_type": "execute_result"
    }
   ],
   "source": [
    "X = \"zabdxyz\"\n",
    "Y = \"cabxyz\"\n",
    "dp_6_11(X,Y)"
   ]
  },
  {
   "cell_type": "markdown",
   "id": "d8b6fb60-90f5-4739-b3de-1e64e5fa7978",
   "metadata": {},
   "source": [
    "Solved it myself woohoo! And This should be O(n^2) time."
   ]
  }
 ],
 "metadata": {
  "kernelspec": {
   "display_name": "Python 3 (ipykernel)",
   "language": "python",
   "name": "python3"
  },
  "language_info": {
   "codemirror_mode": {
    "name": "ipython",
    "version": 3
   },
   "file_extension": ".py",
   "mimetype": "text/x-python",
   "name": "python",
   "nbconvert_exporter": "python",
   "pygments_lexer": "ipython3",
   "version": "3.10.18"
  }
 },
 "nbformat": 4,
 "nbformat_minor": 5
}
