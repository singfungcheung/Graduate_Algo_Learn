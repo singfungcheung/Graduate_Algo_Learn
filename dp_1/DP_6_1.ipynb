{
 "cells": [
  {
   "cell_type": "code",
   "execution_count": 1,
   "id": "7974302c-e353-41a8-bd62-7b84fae4755d",
   "metadata": {},
   "outputs": [],
   "source": [
    "import numpy as np\n",
    "import pandas as pd\n",
    "import matplotlib.pyplot as plt\n",
    "import time"
   ]
  },
  {
   "cell_type": "markdown",
   "id": "5ba9c89b-4a04-42b9-bd7d-c0bb29f40881",
   "metadata": {},
   "source": [
    "## My attempt"
   ]
  },
  {
   "cell_type": "code",
   "execution_count": 2,
   "id": "ac95a8f1-370b-4f08-815a-3a5c98587abe",
   "metadata": {},
   "outputs": [],
   "source": [
    "def dp_6_1(x):\n",
    "    len_x = len(x)\n",
    "    if not len_x:\n",
    "        return \"No length\"\n",
    "\n",
    "    indicies = [0]\n",
    "    s = [x[0]]\n",
    "    max_index = 0\n",
    "    for i in range(1, len_x): # O(n)\n",
    "        if x[i] + s[i - 1] > x[i]:\n",
    "            indicies.append(indicies[i - 1])\n",
    "            s.append(x[i] + s[i - 1])\n",
    "            if s[i] > s[max_index]:\n",
    "                max_index = i\n",
    "        else:\n",
    "            indicies.append(i)\n",
    "            s.append(x[i])\n",
    "\n",
    "    # Print out the sequence\n",
    "    print(x[indicies[max_index]: max_index + 1]) # In non python code, it would be O(n)\n",
    "\n",
    "    return s[max_index]"
   ]
  },
  {
   "cell_type": "code",
   "execution_count": 3,
   "id": "94176405-f24b-4611-928e-311333ccf955",
   "metadata": {},
   "outputs": [
    {
     "name": "stdout",
     "output_type": "stream",
     "text": [
      "[10, -5, 40, 10]\n"
     ]
    },
    {
     "data": {
      "text/plain": [
       "55"
      ]
     },
     "execution_count": 3,
     "metadata": {},
     "output_type": "execute_result"
    }
   ],
   "source": [
    "x = [5, 15, -30, 10, -5, 40, 10]\n",
    "\n",
    "dp_6_1(x)"
   ]
  },
  {
   "cell_type": "markdown",
   "id": "24e494a3-e2c4-45f3-a1cd-0629a6765c0c",
   "metadata": {},
   "source": [
    "Looks like prof only considered the sum and not the subsequence. Can ask on Ed."
   ]
  },
  {
   "cell_type": "code",
   "execution_count": 6,
   "id": "66f166f0-f11d-418f-b17d-246227e0a197",
   "metadata": {},
   "outputs": [],
   "source": [
    "# Make space O(1)\n",
    "def dp_6_1_optim(x):\n",
    "    len_x = len(x)\n",
    "    if not len_x:\n",
    "        return \"No length\"\n",
    "\n",
    "    start_index = end_index = temp_start = 0 \n",
    "    current_sum = x[0]\n",
    "    max_sum = x[0]\n",
    "    for i in range(1, len_x): # O(n)\n",
    "        if x[i] + current_sum > x[i]:\n",
    "            current_sum += x[i]\n",
    "            if current_sum > max_sum:\n",
    "                max_sum = current_sum\n",
    "                start_index, end_index = temp_start, i\n",
    "        else:\n",
    "            current_sum = x[i]\n",
    "            temp_start = i\n",
    "\n",
    "    # Print out the sequence\n",
    "    print(x[start_index: end_index + 1]) # In non python code, it would be O(n)\n",
    "\n",
    "    return max_sum"
   ]
  },
  {
   "cell_type": "code",
   "execution_count": 7,
   "id": "5718b146-5655-41f2-8371-df30a710d028",
   "metadata": {},
   "outputs": [
    {
     "name": "stdout",
     "output_type": "stream",
     "text": [
      "[10, -5, 40, 10]\n"
     ]
    },
    {
     "data": {
      "text/plain": [
       "55"
      ]
     },
     "execution_count": 7,
     "metadata": {},
     "output_type": "execute_result"
    }
   ],
   "source": [
    "dp_6_1_optim(x)"
   ]
  },
  {
   "cell_type": "markdown",
   "id": "d982a1e6-4a57-4290-b23b-a07504500136",
   "metadata": {},
   "source": [
    "### Variations:"
   ]
  },
  {
   "cell_type": "code",
   "execution_count": null,
   "id": "cfe4953b-2cf6-4707-90fd-9b5773ed294a",
   "metadata": {},
   "outputs": [],
   "source": []
  }
 ],
 "metadata": {
  "kernelspec": {
   "display_name": "Python 3 (ipykernel)",
   "language": "python",
   "name": "python3"
  },
  "language_info": {
   "codemirror_mode": {
    "name": "ipython",
    "version": 3
   },
   "file_extension": ".py",
   "mimetype": "text/x-python",
   "name": "python",
   "nbconvert_exporter": "python",
   "pygments_lexer": "ipython3",
   "version": "3.10.18"
  }
 },
 "nbformat": 4,
 "nbformat_minor": 5
}
