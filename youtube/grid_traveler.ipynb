{
 "cells": [
  {
   "cell_type": "code",
   "execution_count": 1,
   "id": "e468505b-1852-4aa2-b980-d738bb96f7c9",
   "metadata": {},
   "outputs": [],
   "source": [
    "import numpy as np\n",
    "import pandas as pd\n",
    "import matplotlib.pyplot as plt\n",
    "import time"
   ]
  },
  {
   "cell_type": "markdown",
   "id": "bd91d72a-960c-4e7f-bda1-d69bab31221b",
   "metadata": {},
   "source": [
    "Given a m x n grid, how many different ways can we go from the top left to the bottom right grid assuming only we can move **right** and **down**"
   ]
  },
  {
   "cell_type": "markdown",
   "id": "305a983b-3b97-4e8f-bad4-ae412171111b",
   "metadata": {},
   "source": [
    "## Recursive"
   ]
  },
  {
   "cell_type": "code",
   "execution_count": 2,
   "id": "75c875f2-fe4b-4aea-bcd9-dcf2d92153e5",
   "metadata": {},
   "outputs": [],
   "source": [
    "def gridTravel(m, n):\n",
    "    if m == 1 and n == 1:\n",
    "        return 1\n",
    "    if m == 0 or n == 0:\n",
    "        return 0\n",
    "    return gridTravel(m - 1, n) + gridTravel(m, n - 1)"
   ]
  },
  {
   "cell_type": "code",
   "execution_count": 3,
   "id": "823a949c-9801-4143-bdc4-136460962d3a",
   "metadata": {},
   "outputs": [
    {
     "name": "stdout",
     "output_type": "stream",
     "text": [
      "1\n",
      "3\n",
      "3\n"
     ]
    }
   ],
   "source": [
    "print(gridTravel(1, 1))\n",
    "print(gridTravel(2, 3))\n",
    "print(gridTravel(3, 2))"
   ]
  },
  {
   "cell_type": "code",
   "execution_count": 5,
   "id": "2c6481f5-6911-4677-8846-f6a880685679",
   "metadata": {},
   "outputs": [],
   "source": [
    "# print(gridTravel(18, 18)) # Too slow"
   ]
  },
  {
   "cell_type": "markdown",
   "id": "a6ea61e4-3ece-41c8-b47c-71a06010164f",
   "metadata": {},
   "source": [
    "## DP"
   ]
  },
  {
   "cell_type": "code",
   "execution_count": 6,
   "id": "631afac3-3f9d-4fd9-811a-49dbbd802ce7",
   "metadata": {},
   "outputs": [],
   "source": [
    "def dp(m, n, table = {}):\n",
    "    key = str(m) + ',' + str(n)\n",
    "    if key in table:\n",
    "        return table[key]\n",
    "\n",
    "    if m == 1 and n == 1:\n",
    "        return 1\n",
    "    if m == 0 or n == 0:\n",
    "        return 0\n",
    "\n",
    "    table[key] = dp(m - 1, n, table) + dp(m, n - 1, table)\n",
    "    return table[key]"
   ]
  },
  {
   "cell_type": "code",
   "execution_count": 7,
   "id": "e4e698f3-8f09-4731-abbd-ba1a135ef4d2",
   "metadata": {},
   "outputs": [
    {
     "name": "stdout",
     "output_type": "stream",
     "text": [
      "1\n",
      "3\n",
      "3\n",
      "2333606220\n"
     ]
    }
   ],
   "source": [
    "print(dp(1,1))\n",
    "print(dp(2,3))\n",
    "print(dp(3,2))\n",
    "print(dp(18,18))"
   ]
  }
 ],
 "metadata": {
  "kernelspec": {
   "display_name": "Python 3 (ipykernel)",
   "language": "python",
   "name": "python3"
  },
  "language_info": {
   "codemirror_mode": {
    "name": "ipython",
    "version": 3
   },
   "file_extension": ".py",
   "mimetype": "text/x-python",
   "name": "python",
   "nbconvert_exporter": "python",
   "pygments_lexer": "ipython3",
   "version": "3.10.18"
  }
 },
 "nbformat": 4,
 "nbformat_minor": 5
}
