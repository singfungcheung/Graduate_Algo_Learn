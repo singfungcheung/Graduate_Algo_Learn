{
 "cells": [
  {
   "cell_type": "code",
   "execution_count": null,
   "id": "d720ba6c-c30d-4f18-a99e-de56f7f2aac1",
   "metadata": {},
   "outputs": [],
   "source": [
    "import numpy as np\n",
    "import pandas as pd\n",
    "import matplotlib.pyplot as plt\n",
    "import time"
   ]
  },
  {
   "cell_type": "markdown",
   "id": "4f59a5d3-7fdd-4896-a693-b714afd0e144",
   "metadata": {},
   "source": [
    "Input: 2 strings X = x_1,...,x_n and Y = y_1,...,y_n\n",
    "\n",
    "Goal: Find the length of the longest string which is a subsequence of both X & Y\n",
    "\n",
    "Example:\n",
    "\n",
    "X = B, C, D, B, C, D, A\n",
    "\n",
    "Y = A, B, E, C, B, A, B\n",
    "\n",
    "The length of LCS is 4 (B,C,B,A)"
   ]
  },
  {
   "cell_type": "markdown",
   "id": "70585e45-6034-458c-a3f9-41939942a08d",
   "metadata": {},
   "source": [
    "First, we define the sub-problem in words:\n",
    "\n",
    "For i where i = [0, n],\n",
    "\n",
    "L(i) = length of LCS between: \n",
    "\n",
    "X_1,...,X_i and Y_1,...,Y-i.\n",
    "\n",
    "Second, state recursive relation (express L(i) in terms fo L(1),...,L(i - 1):\n",
    "\n",
    "Case when x_i == y_i, then **L(i, j) = 1 + L(i - 1, j - 1)**\n",
    "\n",
    "Case when x_i != y_i, then **max(L(i - 1, j), L(i, j - 1))**"
   ]
  },
  {
   "cell_type": "code",
   "execution_count": null,
   "id": "9c478182-8375-4e1e-b926-09738897cec0",
   "metadata": {},
   "outputs": [],
   "source": [
    "# Implmenting from ODA seminar:\n",
    "def oda(X, Y):\n",
    "    # First break down the strings into ['a', 'b', 'c'] etc.\n",
    "    x = [i for i in X]\n",
    "    y = [i for i in Y]\n",
    "\n",
    "    # Create a matrix that is len(x) + 1 by len(y) + 1\n",
    "    m = len(x)\n",
    "    n = len(y)\n",
    "\n",
    "    dp = np.zeros((m + 1, n + 1), dtype = int)\n",
    "    # print(dp.shape) # (6, 4)\n",
    "    # print(dp) # Ok looks good\n",
    "    # diff = \"\"\n",
    "    for i in range(1, m + 1):\n",
    "        for j in range(1, n + 1):\n",
    "            if x[i - 1] == y[j - 1]:\n",
    "                dp[i, j] = dp[i - 1, j - 1] + 1\n",
    "                # diff += x[i - 1] # Not correct! Gotta go back upwards.\n",
    "            else:\n",
    "                dp[i, j] = max(dp[i, j - 1], dp[i - 1, j])\n",
    "    print(dp)\n",
    "    # print(diff)\n",
    "\n",
    "    # Trace back to find the LCS :)\n",
    "    diff = \"\"\n",
    "    target_to_return = dp[m, n]\n",
    "    target = dp[m, n]\n",
    "    print(target)\n",
    "    while target != 0:\n",
    "        up_index = m - 1\n",
    "        left_index = n - 1\n",
    "        print(\"Current Target:\", target)\n",
    "        if dp[up_index, n] > dp[m, left_index]: # element at up index > left index\n",
    "            print(\"Going up!\")\n",
    "            m = up_index\n",
    "        elif dp[up_index, n] < dp[m, left_index]: # element at up index < left index\n",
    "            print(\"Going left!\")\n",
    "            n = left_index\n",
    "        else: # Equal\n",
    "            print(\"They are equal. Is the diagonal entry up smaller than target?\")\n",
    "            if dp[up_index, left_index] < target:\n",
    "                print(\"Position (\" + str(up_index) + \",\" + str(left_index) + \") is! Letter to append is \" + '\"' + x[m - 1] + '\"') # could also do y[n - 1]\n",
    "                diff += x[m - 1]\n",
    "                target = dp[up_index, left_index]\n",
    "                m = up_index\n",
    "                n = left_index\n",
    "            else:\n",
    "                print(\"Not smaller than target. Let's just go up\")\n",
    "                m = up_index\n",
    "    print(\"LCS:\", diff[::-1])\n",
    "    return target_to_return"
   ]
  },
  {
   "cell_type": "code",
   "execution_count": null,
   "id": "e094bc9d-bde1-4030-952a-1b23da906a67",
   "metadata": {},
   "outputs": [],
   "source": [
    "oda(\"abcde\", \"abc\")"
   ]
  },
  {
   "cell_type": "code",
   "execution_count": null,
   "id": "c8c21add-e6f4-4b95-99ef-281bf594a524",
   "metadata": {},
   "outputs": [],
   "source": [
    "oda(\"BCDBCDA\", \"ABECBA\")"
   ]
  }
 ],
 "metadata": {
  "kernelspec": {
   "display_name": "Python 3 (ipykernel)",
   "language": "python",
   "name": "python3"
  },
  "language_info": {
   "codemirror_mode": {
    "name": "ipython",
    "version": 3
   },
   "file_extension": ".py",
   "mimetype": "text/x-python",
   "name": "python",
   "nbconvert_exporter": "python",
   "pygments_lexer": "ipython3",
   "version": "3.10.18"
  }
 },
 "nbformat": 4,
 "nbformat_minor": 5
}
