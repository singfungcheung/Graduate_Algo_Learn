{
 "cells": [
  {
   "cell_type": "code",
   "execution_count": 1,
   "id": "78ad9173-de83-4e37-bf45-d967a724f9dd",
   "metadata": {},
   "outputs": [],
   "source": [
    "import numpy as np\n",
    "import pandas as pd\n",
    "import matplotlib.pyplot as plt\n",
    "import time"
   ]
  },
  {
   "cell_type": "markdown",
   "id": "d9c7bf79-29bb-4550-88ce-c604b9530acf",
   "metadata": {},
   "source": [
    "## With repetition"
   ]
  },
  {
   "cell_type": "code",
   "execution_count": 18,
   "id": "6a647451-32b3-47bf-a5dc-5c3691b06619",
   "metadata": {},
   "outputs": [],
   "source": [
    "def ks(w, v, c):\n",
    "    # Create a matrix that is len(x) + 1 by len(y) + 1\n",
    "    m = len(w)\n",
    "    # n = len(v)\n",
    "\n",
    "    dp = np.zeros((m + 1, c + 1), dtype = int)\n",
    "    for i in range(1, m + 1):\n",
    "        for j in range(1, c + 1):\n",
    "            if w[i - 1] <= j:\n",
    "                dp[i, j] = max(v[i - 1] + dp[i - 1, j - w[i - 1]], dp[i - 1, j], v[i - 1] + dp[i, j - w[i - 1]])\n",
    "                # dp[i, j] = max(v[i - 1] + dp[i - 1, j - w[i - 1]], dp[i - 1, j]) # Broke it down into the if statements above.\n",
    "                # Which is more valuable? As is or if we remove the weight that is equivalent to the current weight and add it's value?\n",
    "                #1. Diagonal down. Remove equivalent weight and add new item with same weight with more value.\n",
    "                #2. Use what's higher (just use what's above: i - 1)\n",
    "                #3. Add on to what's in the bag already <-\n",
    "            else:\n",
    "                dp[i, j] = dp[i - 1, j] # Doesn't fit. So even if it is worth an infinite amount it can't be added. So just move down the value from whatever is above it.\n",
    "    print(dp)\n",
    "    return dp[m, c]"
   ]
  },
  {
   "cell_type": "code",
   "execution_count": 19,
   "id": "163d63de-5ebe-4fe6-9e47-a0ed749005b2",
   "metadata": {},
   "outputs": [
    {
     "name": "stdout",
     "output_type": "stream",
     "text": [
      "[[ 0  0  0  0  0  0]\n",
      " [ 0  0  0  0  0  2]\n",
      " [ 0  2  4  6  8 10]\n",
      " [ 0  4  8 12 16 20]\n",
      " [ 0  4  8 12 16 20]]\n"
     ]
    },
    {
     "data": {
      "text/plain": [
       "np.int64(20)"
      ]
     },
     "execution_count": 19,
     "metadata": {},
     "output_type": "execute_result"
    }
   ],
   "source": [
    "v = [2, 2, 4, 1]\n",
    "w = [5, 1, 1, 3]\n",
    "c = 5\n",
    "ks(w, v, c)"
   ]
  },
  {
   "cell_type": "code",
   "execution_count": 20,
   "id": "643afeef-b496-4d0e-bd28-6f8e73640a55",
   "metadata": {},
   "outputs": [
    {
     "name": "stdout",
     "output_type": "stream",
     "text": [
      "[[ 0  0  0  0  0  0  0  0  0  0  0  0  0  0  0  0  0  0  0  0  0  0  0]\n",
      " [ 0  0  0  0  0  0  0  0  0  0  0  0  0  0  0 15 15 15 15 15 15 15 15]\n",
      " [ 0  0  0  0  0  0  0  0  0  0  0  0 10 10 10 15 15 15 15 15 15 15 15]\n",
      " [ 0  0  0  0  0  0  0  0  0  0  8  8 10 10 10 15 15 15 15 15 16 16 18]\n",
      " [ 0  0  0  0  0  1  1  1  1  1  8  8 10 10 10 15 15 15 15 15 16 16 18]]\n"
     ]
    },
    {
     "data": {
      "text/plain": [
       "np.int64(18)"
      ]
     },
     "execution_count": 20,
     "metadata": {},
     "output_type": "execute_result"
    }
   ],
   "source": [
    "v = [15, 10, 8, 1]\n",
    "w = [15, 12, 10, 5]\n",
    "c = 22\n",
    "ks(w, v, c)"
   ]
  },
  {
   "cell_type": "code",
   "execution_count": null,
   "id": "6bb0b952-5d17-452c-909b-fe385e86e420",
   "metadata": {},
   "outputs": [],
   "source": []
  }
 ],
 "metadata": {
  "kernelspec": {
   "display_name": "Python 3 (ipykernel)",
   "language": "python",
   "name": "python3"
  },
  "language_info": {
   "codemirror_mode": {
    "name": "ipython",
    "version": 3
   },
   "file_extension": ".py",
   "mimetype": "text/x-python",
   "name": "python",
   "nbconvert_exporter": "python",
   "pygments_lexer": "ipython3",
   "version": "3.10.18"
  }
 },
 "nbformat": 4,
 "nbformat_minor": 5
}
