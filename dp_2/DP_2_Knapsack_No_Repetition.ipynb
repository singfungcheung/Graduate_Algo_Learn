{
 "cells": [
  {
   "cell_type": "code",
   "execution_count": 1,
   "id": "3306f2b9-15a1-470a-853a-c0172583ea91",
   "metadata": {},
   "outputs": [],
   "source": [
    "import numpy as np\n",
    "import pandas as pd\n",
    "import matplotlib.pyplot as plt\n",
    "import time"
   ]
  },
  {
   "cell_type": "markdown",
   "id": "fe8f1904-0995-4fd7-bdc0-14552555c608",
   "metadata": {},
   "source": [
    "Given weights, value, and capacity."
   ]
  },
  {
   "cell_type": "code",
   "execution_count": 55,
   "id": "8246c273-9165-4996-a9ba-39c4c8a57a80",
   "metadata": {},
   "outputs": [],
   "source": [
    "def ks(w, v, c):\n",
    "    # Create a matrix that is len(x) + 1 by len(y) + 1\n",
    "    m = len(w)\n",
    "    # n = len(v)\n",
    "\n",
    "    dp = np.zeros((m + 1, c + 1), dtype = int)\n",
    "    for i in range(1, m + 1):\n",
    "        for j in range(1, c + 1):\n",
    "            if w[i - 1] <= j:\n",
    "                dp[i, j] = max(v[i - 1] + dp[i - 1, j - w[i - 1]], dp[i - 1, j])\n",
    "                # dp[i, j] = max(v[i - 1] + dp[i - 1, j - w[i - 1]], dp[i - 1, j]) # Broke it down into the if statements above.\n",
    "                # Which is more valuable? As is or if we remove the weight that is equivalent to the current weight and add it's value?\n",
    "            else:\n",
    "                dp[i, j] = dp[i - 1, j] # Doesn't fit. So even if it is worth an infinite amount it can't be added. So just move down the value from whatever is above it.\n",
    "    print(dp)\n",
    "    return dp[m, c]"
   ]
  },
  {
   "cell_type": "code",
   "execution_count": 56,
   "id": "d1b48dff-f3d7-4583-8433-a8031ffebb92",
   "metadata": {},
   "outputs": [
    {
     "name": "stdout",
     "output_type": "stream",
     "text": [
      "[[ 0  0  0  0  0  0  0  0  0  0  0  0  0  0  0  0  0  0  0  0  0  0  0]\n",
      " [ 0  0  0  0  0  0  0  0  0  0  0  0  0  0  0 15 15 15 15 15 15 15 15]\n",
      " [ 0  0  0  0  0  0  0  0  0  0  0  0 10 10 10 15 15 15 15 15 15 15 15]\n",
      " [ 0  0  0  0  0  0  0  0  0  0  8  8 10 10 10 15 15 15 15 15 15 15 18]\n",
      " [ 0  0  0  0  0  1  1  1  1  1  8  8 10 10 10 15 15 15 15 15 16 16 18]]\n"
     ]
    },
    {
     "data": {
      "text/plain": [
       "np.int64(18)"
      ]
     },
     "execution_count": 56,
     "metadata": {},
     "output_type": "execute_result"
    }
   ],
   "source": [
    "v = [15, 10, 8, 1]\n",
    "w = [15, 12, 10, 5]\n",
    "c = 22\n",
    "ks(w, v, c)"
   ]
  },
  {
   "cell_type": "code",
   "execution_count": 58,
   "id": "06141f1b-03c6-44d7-a09b-d6d520a7fe10",
   "metadata": {},
   "outputs": [
    {
     "name": "stdout",
     "output_type": "stream",
     "text": [
      "[[0 0 0 0 0 0]\n",
      " [0 0 0 0 0 2]\n",
      " [0 2 2 2 2 2]\n",
      " [0 4 6 6 6 6]\n",
      " [0 4 6 6 6 7]]\n"
     ]
    },
    {
     "data": {
      "text/plain": [
       "np.int64(7)"
      ]
     },
     "execution_count": 58,
     "metadata": {},
     "output_type": "execute_result"
    }
   ],
   "source": [
    "v = [2, 2, 4, 1]\n",
    "w = [5, 1, 1, 3]\n",
    "c = 5\n",
    "ks(w, v, c)"
   ]
  },
  {
   "cell_type": "code",
   "execution_count": 45,
   "id": "8f3ce4b3-51a5-42c1-a216-7b53cdeb9759",
   "metadata": {},
   "outputs": [],
   "source": [
    "def ks(w, v, c):\n",
    "    # Create a matrix that is len(x) + 1 by len(y) + 1\n",
    "    m = len(w)\n",
    "    # n = len(v)\n",
    "\n",
    "    dp = np.zeros((m + 1, c + 1), dtype = int)\n",
    "    parent = []\n",
    "    max_item = -1\n",
    "    max_val = 0\n",
    "    for i in range(1, m + 1):\n",
    "        parent.append(-1)\n",
    "        appended = False\n",
    "        for j in range(1, c + 1):\n",
    "            if w[i - 1] <= j:\n",
    "                if v[i - 1] + dp[i - 1, j - w[i - 1]] > dp[i - 1, j]:\n",
    "                    dp[i, j] = v[i - 1] + dp[i - 1, j - w[i - 1]]\n",
    "                    # print(i - 1)\n",
    "                    if not appended:\n",
    "                        parent[-1] = i - 2\n",
    "                        appended = True\n",
    "                    if dp[i, j] > max_val:\n",
    "                        max_val = dp[i, j]\n",
    "                        max_item = i - 1\n",
    "                else:\n",
    "                    dp[i, j] = dp[i - 1, j]\n",
    "                # dp[i, j] = max(v[i - 1] + dp[i - 1, j - w[i - 1]], dp[i - 1, j]) # Broke it down into the if statements above.\n",
    "                # Which is more valuable? As is or if we remove the weight that is equivalent to the current weight and add it's value?\n",
    "            else:\n",
    "                dp[i, j] = dp[i - 1, j] # Doesn't fit. So even if it is worth an infinite amount it can't be added. So just move down the value from whatever is above it.\n",
    "    print(dp)\n",
    "    print(parent)\n",
    "    sequence = []\n",
    "    current = max_item\n",
    "    while current != 0:\n",
    "        sequence.append(current)\n",
    "        current = parent[current]\n",
    "    print(sequence[::-1])\n",
    "    return dp[m, c]"
   ]
  },
  {
   "cell_type": "code",
   "execution_count": 46,
   "id": "30a92085-d07a-4565-b7df-98fe7afa3d81",
   "metadata": {},
   "outputs": [
    {
     "name": "stdout",
     "output_type": "stream",
     "text": [
      "[[ 0  0  0  0  0  0  0  0  0  0  0  0  0  0  0  0  0  0  0  0  0  0  0]\n",
      " [ 0  0  0  0  0  0  0  0  0  0  0  0  0  0  0 15 15 15 15 15 15 15 15]\n",
      " [ 0  0  0  0  0  0  0  0  0  0  0  0 10 10 10 15 15 15 15 15 15 15 15]\n",
      " [ 0  0  0  0  0  0  0  0  0  0  8  8 10 10 10 15 15 15 15 15 15 15 18]\n",
      " [ 0  0  0  0  0  1  1  1  1  1  8  8 10 10 10 15 15 15 15 15 16 16 18]]\n",
      "[-1, 0, 1, 2]\n",
      "[1, 2]\n"
     ]
    },
    {
     "data": {
      "text/plain": [
       "np.int64(18)"
      ]
     },
     "execution_count": 46,
     "metadata": {},
     "output_type": "execute_result"
    }
   ],
   "source": [
    "v = [15, 10, 8, 1]\n",
    "w = [15, 12, 10, 5]\n",
    "c = 22\n",
    "ks(w, v, c)"
   ]
  },
  {
   "cell_type": "code",
   "execution_count": 47,
   "id": "fb99d50b-e4fe-4626-88d2-221ba7a64843",
   "metadata": {},
   "outputs": [
    {
     "name": "stdout",
     "output_type": "stream",
     "text": [
      "[[0 0 0 0 0 0]\n",
      " [0 0 0 0 0 2]\n",
      " [0 2 2 2 2 2]\n",
      " [0 4 6 6 6 6]\n",
      " [0 4 6 6 6 7]]\n",
      "[-1, 0, 1, 2]\n",
      "[1, 2, 3]\n"
     ]
    },
    {
     "data": {
      "text/plain": [
       "np.int64(7)"
      ]
     },
     "execution_count": 47,
     "metadata": {},
     "output_type": "execute_result"
    }
   ],
   "source": [
    "v = [2, 2, 4, 1]\n",
    "w = [5, 1, 1, 3]\n",
    "c = 5\n",
    "ks(w, v, c)"
   ]
  },
  {
   "cell_type": "code",
   "execution_count": null,
   "id": "a83bef67-11f8-4ca0-baa9-b7c08f5e95bc",
   "metadata": {},
   "outputs": [],
   "source": []
  }
 ],
 "metadata": {
  "kernelspec": {
   "display_name": "Python 3 (ipykernel)",
   "language": "python",
   "name": "python3"
  },
  "language_info": {
   "codemirror_mode": {
    "name": "ipython",
    "version": 3
   },
   "file_extension": ".py",
   "mimetype": "text/x-python",
   "name": "python",
   "nbconvert_exporter": "python",
   "pygments_lexer": "ipython3",
   "version": "3.10.18"
  }
 },
 "nbformat": 4,
 "nbformat_minor": 5
}
