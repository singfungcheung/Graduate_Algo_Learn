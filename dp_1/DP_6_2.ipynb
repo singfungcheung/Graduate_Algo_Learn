{
 "cells": [
  {
   "cell_type": "code",
   "execution_count": 19,
   "id": "222320e7-5496-45c5-a9ab-55fc58eabf31",
   "metadata": {},
   "outputs": [],
   "source": [
    "import numpy as np\n",
    "import pandas as pd\n",
    "import matplotlib.pyplot as plt\n",
    "import time"
   ]
  },
  {
   "cell_type": "markdown",
   "id": "f0c35750-1d69-487e-b65a-20c9db4a27b7",
   "metadata": {
    "jp-MarkdownHeadingCollapsed": true
   },
   "source": [
    "## My Attempt (wrong)"
   ]
  },
  {
   "cell_type": "code",
   "execution_count": 14,
   "id": "6d0e6317-003d-4748-aa6d-25202eade27e",
   "metadata": {},
   "outputs": [],
   "source": [
    "def traveling(x):\n",
    "    price = 0\n",
    "    day = 1\n",
    "\n",
    "    num_hotels = len(x)\n",
    "    # Handle the case where there's only 1 element (hotel in this case).\n",
    "    if num_hotels == 1:\n",
    "        price = (200 - x[0]) ** 2\n",
    "\n",
    "    dist_total = x[0]\n",
    "    for i in range(1, num_hotels):\n",
    "        dist = x[i] - x[i - 1]\n",
    "        print(\"Examining hotel\", x[i])\n",
    "        if (200 - dist) ** 2 < (200 - (dist_total + dist)) ** 2:\n",
    "            print(\"Hotel\", i + 1, \"for tomorrow. We will travel\", dist_total, \"today and land at hotel\", i)\n",
    "            price_to_pay = (200 - dist_total) ** 2\n",
    "            print(f\"Price for this {day} is {price_to_pay:.4f}\")\n",
    "            price += price_to_pay\n",
    "            day += 1\n",
    "            dist_total = dist\n",
    "        else:\n",
    "            dist_total += dist\n",
    "\n",
    "            # Check if we're at the last element.\n",
    "            if i == num_hotels - 1:\n",
    "                price_to_pay = 2\n",
    "    return price"
   ]
  },
  {
   "cell_type": "code",
   "execution_count": 15,
   "id": "f9366528-c80c-4987-9ac1-d27012ab851f",
   "metadata": {},
   "outputs": [
    {
     "data": {
      "text/plain": [
       "0"
      ]
     },
     "execution_count": 15,
     "metadata": {},
     "output_type": "execute_result"
    }
   ],
   "source": [
    "x = [200]\n",
    "\n",
    "traveling(x) # No price to pay. Expect 0"
   ]
  },
  {
   "cell_type": "code",
   "execution_count": 18,
   "id": "46e822bc-64fd-44a1-b49a-d4633832c235",
   "metadata": {},
   "outputs": [
    {
     "name": "stdout",
     "output_type": "stream",
     "text": [
      "Examining hotel 250\n",
      "Examining hotel 350\n",
      "Hotel 3 for tomorrow. We will travel 250 today and land at hotel 2\n",
      "Price for this 1 is 2500.0000\n",
      "Examining hotel 400\n",
      "Examining hotel 600\n",
      "Hotel 5 for tomorrow. We will travel 150 today and land at hotel 4\n",
      "Price for this 2 is 2500.0000\n"
     ]
    },
    {
     "data": {
      "text/plain": [
       "5000"
      ]
     },
     "execution_count": 18,
     "metadata": {},
     "output_type": "execute_result"
    }
   ],
   "source": [
    "x = [200, 250, 350, 400, 600]\n",
    "\n",
    "traveling(x)"
   ]
  },
  {
   "cell_type": "markdown",
   "id": "dd91ed71-6271-446f-bf7c-d043b01d6466",
   "metadata": {},
   "source": [
    "## Attempt Two"
   ]
  },
  {
   "cell_type": "markdown",
   "id": "69215429-7834-4ba9-9e0f-854153d2e43a",
   "metadata": {},
   "source": [
    "Need to reframe to think, what's the penalty from start UP to hotel i, as is common in DP."
   ]
  },
  {
   "cell_type": "code",
   "execution_count": 74,
   "id": "6b2c87bc-0f7d-4820-b5d7-900cc163bdb6",
   "metadata": {},
   "outputs": [],
   "source": [
    "def dp_6_2(x):\n",
    "    penalty = [(200 - x[0]) ** 2]\n",
    "    parent = [-1]\n",
    "    num_hotels = len(x)\n",
    "    for i in range(1, num_hotels):\n",
    "        # From beginning default penalty\n",
    "        min_penalty = (200 - x[i]) ** 2\n",
    "        prev_index = -1\n",
    "        \n",
    "        for j in range(i):\n",
    "            hotel_i_penalty_with_j = penalty[j] + (200 - (x[i] - x[j])) ** 2\n",
    "            if hotel_i_penalty_with_j < min_penalty:\n",
    "                min_penalty = hotel_i_penalty_with_j\n",
    "                prev_index = j\n",
    "                \n",
    "        # Here it should have gotten the min penalty for hotel i.\n",
    "        penalty.append(min_penalty)\n",
    "        parent.append(prev_index)\n",
    "\n",
    "    path = []\n",
    "    current = num_hotels - 1\n",
    "    while current != -1:\n",
    "        path.append(current)\n",
    "        current = parent[current]\n",
    "    print(\"Path\", path[::-1])\n",
    "    print(\"Hotel\", [x[i] for i in path[::-1]])\n",
    "    print(penalty)\n",
    "    return penalty[-1]"
   ]
  },
  {
   "cell_type": "code",
   "execution_count": 75,
   "id": "b4f2224a-fdc1-4f8e-8700-ffa955142295",
   "metadata": {},
   "outputs": [
    {
     "name": "stdout",
     "output_type": "stream",
     "text": [
      "Path [0, 1, 2]\n",
      "Hotel [200, 400, 550]\n",
      "[0, 0, 2500]\n"
     ]
    },
    {
     "data": {
      "text/plain": [
       "2500"
      ]
     },
     "execution_count": 75,
     "metadata": {},
     "output_type": "execute_result"
    }
   ],
   "source": [
    "x = [200, 400, 550]\n",
    "dp_6_2(x)"
   ]
  },
  {
   "cell_type": "code",
   "execution_count": 76,
   "id": "063b08fc-c8f0-4631-9036-a00e9ceb016f",
   "metadata": {},
   "outputs": [
    {
     "name": "stdout",
     "output_type": "stream",
     "text": [
      "Path [0, 3, 4]\n",
      "Hotel [200, 400, 600]\n",
      "[0, 2500, 2500, 0, 0]\n"
     ]
    },
    {
     "data": {
      "text/plain": [
       "0"
      ]
     },
     "execution_count": 76,
     "metadata": {},
     "output_type": "execute_result"
    }
   ],
   "source": [
    "x = [200, 250, 350, 400, 600]\n",
    "dp_6_2(x)"
   ]
  },
  {
   "cell_type": "code",
   "execution_count": 77,
   "id": "c22c474f-85be-4f93-816a-5a61a436c280",
   "metadata": {},
   "outputs": [
    {
     "name": "stdout",
     "output_type": "stream",
     "text": [
      "Path [0]\n",
      "Hotel [200]\n",
      "[0]\n"
     ]
    },
    {
     "data": {
      "text/plain": [
       "0"
      ]
     },
     "execution_count": 77,
     "metadata": {},
     "output_type": "execute_result"
    }
   ],
   "source": [
    "x = [200]\n",
    "dp_6_2(x)"
   ]
  }
 ],
 "metadata": {
  "kernelspec": {
   "display_name": "Python 3 (ipykernel)",
   "language": "python",
   "name": "python3"
  },
  "language_info": {
   "codemirror_mode": {
    "name": "ipython",
    "version": 3
   },
   "file_extension": ".py",
   "mimetype": "text/x-python",
   "name": "python",
   "nbconvert_exporter": "python",
   "pygments_lexer": "ipython3",
   "version": "3.10.18"
  }
 },
 "nbformat": 4,
 "nbformat_minor": 5
}
