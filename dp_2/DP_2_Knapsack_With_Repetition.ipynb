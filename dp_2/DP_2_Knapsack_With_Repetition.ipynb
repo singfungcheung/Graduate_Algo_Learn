{
 "cells": [
  {
   "cell_type": "code",
   "execution_count": 1,
   "id": "78ad9173-de83-4e37-bf45-d967a724f9dd",
   "metadata": {},
   "outputs": [],
   "source": [
    "import numpy as np\n",
    "import pandas as pd\n",
    "import matplotlib.pyplot as plt\n",
    "import time"
   ]
  },
  {
   "cell_type": "markdown",
   "id": "d9c7bf79-29bb-4550-88ce-c604b9530acf",
   "metadata": {},
   "source": [
    "## With repetition (figured out without watching lecture first!)"
   ]
  },
  {
   "cell_type": "code",
   "execution_count": 22,
   "id": "6a647451-32b3-47bf-a5dc-5c3691b06619",
   "metadata": {},
   "outputs": [],
   "source": [
    "def ks(w, v, c):\n",
    "    # Create a matrix that is len(x) + 1 by len(y) + 1\n",
    "    m = len(w)\n",
    "    # n = len(v)\n",
    "\n",
    "    dp = np.zeros((m + 1, c + 1), dtype = int)\n",
    "    for i in range(1, m + 1):\n",
    "        for j in range(1, c + 1):\n",
    "            if w[i - 1] <= j:\n",
    "                dp[i, j] = max(dp[i - 1, j], v[i - 1] + dp[i, j - w[i - 1]])\n",
    "                # dp[i, j] = max(v[i - 1] + dp[i - 1, j - w[i - 1]], dp[i - 1, j]) # Broke it down into the if statements above.\n",
    "                # Which is more valuable? As is or if we remove the weight that is equivalent to the current weight and add it's value?\n",
    "                #1. Diagonal down. Remove equivalent weight and add new item with same weight with more value. # Don't need this apparently: v[i - 1] + dp[i - 1, j - w[i - 1]], \n",
    "                #2. Use what's higher (just use what's above: i - 1)\n",
    "                #3. Add on to what's in the bag already <-\n",
    "            else:\n",
    "                dp[i, j] = dp[i - 1, j] # Doesn't fit. So even if it is worth an infinite amount it can't be added. So just move down the value from whatever is above it.\n",
    "    print(dp)\n",
    "    return dp[m, c]"
   ]
  },
  {
   "cell_type": "code",
   "execution_count": 23,
   "id": "163d63de-5ebe-4fe6-9e47-a0ed749005b2",
   "metadata": {},
   "outputs": [
    {
     "name": "stdout",
     "output_type": "stream",
     "text": [
      "[[ 0  0  0  0  0  0]\n",
      " [ 0  0  0  0  0  2]\n",
      " [ 0  2  4  6  8 10]\n",
      " [ 0  4  8 12 16 20]\n",
      " [ 0  4  8 12 16 20]]\n"
     ]
    },
    {
     "data": {
      "text/plain": [
       "np.int64(20)"
      ]
     },
     "execution_count": 23,
     "metadata": {},
     "output_type": "execute_result"
    }
   ],
   "source": [
    "v = [2, 2, 4, 1]\n",
    "w = [5, 1, 1, 3]\n",
    "c = 5\n",
    "ks(w, v, c)"
   ]
  },
  {
   "cell_type": "code",
   "execution_count": 24,
   "id": "643afeef-b496-4d0e-bd28-6f8e73640a55",
   "metadata": {},
   "outputs": [
    {
     "name": "stdout",
     "output_type": "stream",
     "text": [
      "[[ 0  0  0  0  0  0  0  0  0  0  0  0  0  0  0  0  0  0  0  0  0  0  0]\n",
      " [ 0  0  0  0  0  0  0  0  0  0  0  0  0  0  0 15 15 15 15 15 15 15 15]\n",
      " [ 0  0  0  0  0  0  0  0  0  0  0  0 10 10 10 15 15 15 15 15 15 15 15]\n",
      " [ 0  0  0  0  0  0  0  0  0  0  8  8 10 10 10 15 15 15 15 15 16 16 18]\n",
      " [ 0  0  0  0  0  1  1  1  1  1  8  8 10 10 10 15 15 15 15 15 16 16 18]]\n"
     ]
    },
    {
     "data": {
      "text/plain": [
       "np.int64(18)"
      ]
     },
     "execution_count": 24,
     "metadata": {},
     "output_type": "execute_result"
    }
   ],
   "source": [
    "v = [15, 10, 8, 1]\n",
    "w = [15, 12, 10, 5]\n",
    "c = 22\n",
    "ks(w, v, c)"
   ]
  },
  {
   "cell_type": "code",
   "execution_count": 25,
   "id": "6bb0b952-5d17-452c-909b-fe385e86e420",
   "metadata": {},
   "outputs": [
    {
     "name": "stdout",
     "output_type": "stream",
     "text": [
      "[[0 0 0 0 0 0]\n",
      " [0 0 0 0 0 2]\n",
      " [0 0 3 3 6 6]\n",
      " [0 1 3 4 6 7]\n",
      " [0 1 3 4 6 7]]\n"
     ]
    },
    {
     "data": {
      "text/plain": [
       "np.int64(7)"
      ]
     },
     "execution_count": 25,
     "metadata": {},
     "output_type": "execute_result"
    }
   ],
   "source": [
    "v = [2, 3, 1, 2]\n",
    "w = [5, 2, 1, 3]\n",
    "c = 5\n",
    "ks(w, v, c)"
   ]
  },
  {
   "cell_type": "markdown",
   "id": "f532552c-a61e-4011-b7ee-1a616aede2a2",
   "metadata": {},
   "source": [
    "## There's a simpler solution with smaller space. O(B) space instead of a 2D table."
   ]
  },
  {
   "cell_type": "code",
   "execution_count": 38,
   "id": "b7209d16-c3b7-4634-9f46-52eb72af6a72",
   "metadata": {},
   "outputs": [],
   "source": [
    "def ks_o(w, v, c):\n",
    "    dp = []\n",
    "    for b in range(c + 1):\n",
    "        dp.append(0)\n",
    "        for i in range(len(w)):\n",
    "            if w[i] <= b:\n",
    "                if v[i] + dp[b - w[i]] > dp[b]:\n",
    "                    dp[b] = v[i] + dp[b - w[i]]\n",
    "    print(dp)\n",
    "    return dp[-1]"
   ]
  },
  {
   "cell_type": "code",
   "execution_count": 39,
   "id": "e7749581-069b-47c9-9291-3be45bc5e7c4",
   "metadata": {},
   "outputs": [
    {
     "name": "stdout",
     "output_type": "stream",
     "text": [
      "[0, 1, 3, 4, 6, 7]\n"
     ]
    },
    {
     "data": {
      "text/plain": [
       "7"
      ]
     },
     "execution_count": 39,
     "metadata": {},
     "output_type": "execute_result"
    }
   ],
   "source": [
    "v = [2, 3, 1, 2]\n",
    "w = [5, 2, 1, 3]\n",
    "c = 5\n",
    "ks_o(w, v, c)"
   ]
  },
  {
   "cell_type": "code",
   "execution_count": 40,
   "id": "345bae99-aa64-4ce2-bd28-002d49573b06",
   "metadata": {},
   "outputs": [
    {
     "name": "stdout",
     "output_type": "stream",
     "text": [
      "[0, 4, 8, 12, 16, 20]\n"
     ]
    },
    {
     "data": {
      "text/plain": [
       "20"
      ]
     },
     "execution_count": 40,
     "metadata": {},
     "output_type": "execute_result"
    }
   ],
   "source": [
    "v = [2, 2, 4, 1]\n",
    "w = [5, 1, 1, 3]\n",
    "c = 5\n",
    "ks_o(w, v, c)"
   ]
  },
  {
   "cell_type": "markdown",
   "id": "48ae459c-9841-4bf2-bcf4-ff03552ff107",
   "metadata": {},
   "source": [
    "## Implement Tracing"
   ]
  },
  {
   "cell_type": "code",
   "execution_count": 81,
   "id": "73b30673-0c4d-4337-a9f7-7e1239b283af",
   "metadata": {},
   "outputs": [],
   "source": [
    "def ks_o(w, v, c):\n",
    "    dp = []\n",
    "    sb = []\n",
    "    for b in range(c + 1):\n",
    "        dp.append(0)\n",
    "        sb.append(0)\n",
    "        for i in range(len(w)):\n",
    "            if w[i] <= b:\n",
    "                if v[i] + dp[b - w[i]] > dp[b]:\n",
    "                    # print(\"weight\", w[i], \"value\", v[i], \"adds on to capacity\", b, \"contributes to\", b - w[i], \"so total\", v[i] + dp[b - w[i]])\n",
    "                    dp[b] = v[i] + dp[b - w[i]]\n",
    "                    sb[b] = i\n",
    "    print(\"table\", dp)\n",
    "    print(\"tracking\", sb)\n",
    "    b = c\n",
    "    chosen_items = []\n",
    "    while b > 0:\n",
    "        i = sb[b]       # last item index used for capacity b\n",
    "        chosen_items.append(i)\n",
    "        b -= w[i]       # reduce capacity by the weight of that item\n",
    "\n",
    "    print(\"chosen items\", chosen_items)  # sequence of chosen item indices\n",
    "    return dp[-1]"
   ]
  },
  {
   "cell_type": "code",
   "execution_count": 82,
   "id": "8ddedbfb-f608-4755-af4f-4fcf9cd6dc39",
   "metadata": {},
   "outputs": [
    {
     "name": "stdout",
     "output_type": "stream",
     "text": [
      "table [0, 4, 8, 12, 16, 20]\n",
      "tracking [0, 2, 2, 2, 2, 2]\n",
      "chosen items [2, 2, 2, 2, 2]\n"
     ]
    },
    {
     "data": {
      "text/plain": [
       "20"
      ]
     },
     "execution_count": 82,
     "metadata": {},
     "output_type": "execute_result"
    }
   ],
   "source": [
    "v = [2, 2, 4, 1]\n",
    "w = [5, 1, 1, 3]\n",
    "c = 5\n",
    "ks_o(w, v, c)"
   ]
  },
  {
   "cell_type": "code",
   "execution_count": 83,
   "id": "6f0996a7-3471-4079-b1e6-bcf5a15d0f64",
   "metadata": {},
   "outputs": [
    {
     "name": "stdout",
     "output_type": "stream",
     "text": [
      "table [0, 1, 3, 4, 6, 7]\n",
      "tracking [0, 2, 1, 1, 1, 1]\n",
      "chosen items [1, 1, 2]\n"
     ]
    },
    {
     "data": {
      "text/plain": [
       "7"
      ]
     },
     "execution_count": 83,
     "metadata": {},
     "output_type": "execute_result"
    }
   ],
   "source": [
    "v = [2, 3, 1, 2]\n",
    "w = [5, 2, 1, 3]\n",
    "c = 5\n",
    "ks_o(w, v, c)"
   ]
  },
  {
   "cell_type": "code",
   "execution_count": 84,
   "id": "43c8d344-7f22-41c8-bc55-7454c1bec705",
   "metadata": {},
   "outputs": [
    {
     "name": "stdout",
     "output_type": "stream",
     "text": [
      "table [0, 1, 3, 4, 6, 7]\n",
      "tracking [0, 1, 2, 1, 2, 1]\n",
      "chosen items [1, 2, 2]\n"
     ]
    },
    {
     "data": {
      "text/plain": [
       "7"
      ]
     },
     "execution_count": 84,
     "metadata": {},
     "output_type": "execute_result"
    }
   ],
   "source": [
    "v = [2, 1, 3, 2]\n",
    "w = [5, 1, 2, 3]\n",
    "c = 5\n",
    "ks_o(w, v, c)"
   ]
  }
 ],
 "metadata": {
  "kernelspec": {
   "display_name": "Python 3 (ipykernel)",
   "language": "python",
   "name": "python3"
  },
  "language_info": {
   "codemirror_mode": {
    "name": "ipython",
    "version": 3
   },
   "file_extension": ".py",
   "mimetype": "text/x-python",
   "name": "python",
   "nbconvert_exporter": "python",
   "pygments_lexer": "ipython3",
   "version": "3.10.18"
  }
 },
 "nbformat": 4,
 "nbformat_minor": 5
}
