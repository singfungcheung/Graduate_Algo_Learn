{
 "cells": [
  {
   "cell_type": "code",
   "execution_count": 1,
   "id": "0153f009-e591-4fd2-a65a-2ada7ff19192",
   "metadata": {},
   "outputs": [],
   "source": [
    "import numpy as np\n",
    "import pandas as pd\n",
    "import matplotlib.pyplot as plt\n",
    "import time"
   ]
  },
  {
   "cell_type": "markdown",
   "id": "f42f968f-bc74-4769-a69c-178e946e2630",
   "metadata": {},
   "source": [
    "## Longest Increasing Subsequence"
   ]
  },
  {
   "cell_type": "markdown",
   "id": "06282543-872c-4390-8218-d6fe0ae0f770",
   "metadata": {},
   "source": [
    "Here, the goal is to find the length of the LIS of input\n",
    "\n",
    "For example:\n",
    "5, 7, 4, -3, 9, 1, 10, 4, 5, 8, 9, 3\n",
    "\n",
    "The LIS of this input is -3, 1, 4, 5, 8, 9 which has a length of **6**."
   ]
  },
  {
   "cell_type": "markdown",
   "id": "1b1d4e4a-5cd0-49c5-b847-11081db34659",
   "metadata": {},
   "source": [
    "First, we define the sub-problem in words:\n",
    "Let L(i) = length of LIS on a1, a2, ...., an\n",
    "\n",
    "Second, state recursive relation:\n",
    "Express L(i) in terms of L(1),...., L(i - 1)"
   ]
  },
  {
   "cell_type": "markdown",
   "id": "e37feeb3-da6a-499d-90be-43d665af995d",
   "metadata": {},
   "source": [
    "*Going through it the first time:*\n",
    "\n",
    "5, 7, 4, -3, 9, 1, 10, 4, 5, 8, 9, 3\n",
    "\n",
    "1, 2, 2,  2, 3, 3,  4, 4, 4, 4/5?\n",
    "\n",
    "At 8, the length should be 5, not 4. So really, we can't just start at the first element, 5, and count from there. Gotta consider the fact that the max length can occur from other elements that come after 5. In this case, the sequence that starts with -3 has the longest length.\n",
    "\n",
    "**The key is to include a_i in the subsequence.**\n",
    "\n",
    "*Going through it the second time:*\n",
    "\n",
    "5, 7, 4, -3, 9, 1, 10, 4, 5, 8, 9, 3\n",
    "\n",
    "1, 2, 1,  1, 3, 2,  4, 3, 4, 5, 6, 3"
   ]
  },
  {
   "cell_type": "markdown",
   "id": "1a760f8a-146b-45b3-b93d-14ba52493cda",
   "metadata": {},
   "source": [
    "So, L(i) = 1 + max{L(j): a_j < a_i & j < i}\n",
    "\n",
    "or L(i) = 1 + max L(j) where 0 <= j <= i - 1 and a_j < a_i, assuming index starts at 0."
   ]
  },
  {
   "cell_type": "code",
   "execution_count": 2,
   "id": "d4d6b2ee-6fd4-42d3-8e11-3f8a1e48dd05",
   "metadata": {},
   "outputs": [],
   "source": [
    "# My solution.\n",
    "x = [5, 7, 4, -3, 9, 1, 10, 4, 5, 8, 9, 3]\n",
    "def lis(x):\n",
    "    y = []\n",
    "    max_len = 0\n",
    "    for i in range(len(x)): # O(n)\n",
    "        x_elm = x[i]\n",
    "        y.append(1)\n",
    "        for j in range(i): # O(n)\n",
    "            if x_elm > x[j] and 1 + y[j] > y[i]: # O(1)\n",
    "                y[i] = 1 + y[j] # O(1)\n",
    "        if y[i] > max_len: # O(1)\n",
    "            max_len = y[i] # O(1)\n",
    "    print(y)\n",
    "    return max_len"
   ]
  },
  {
   "cell_type": "code",
   "execution_count": 3,
   "id": "8323d964-2a4a-4c13-a61e-f54f3c9e510c",
   "metadata": {},
   "outputs": [
    {
     "name": "stdout",
     "output_type": "stream",
     "text": [
      "[1, 2, 1, 1, 3, 2, 4, 3, 4, 5, 6, 3]\n"
     ]
    },
    {
     "data": {
      "text/plain": [
       "6"
      ]
     },
     "execution_count": 3,
     "metadata": {},
     "output_type": "execute_result"
    }
   ],
   "source": [
    "lis(x)"
   ]
  },
  {
   "cell_type": "markdown",
   "id": "f4fc4fb4-25c6-4976-aa3d-257c241e7d32",
   "metadata": {},
   "source": [
    "Look very good! This seems to be a O(n^2) solution. As we have two for loops of n elements.\n",
    "\n",
    "In the lecture, they did another for loop to find the max_len, but we've shown that we can just do that in here."
   ]
  }
 ],
 "metadata": {
  "kernelspec": {
   "display_name": "Python 3 (ipykernel)",
   "language": "python",
   "name": "python3"
  },
  "language_info": {
   "codemirror_mode": {
    "name": "ipython",
    "version": 3
   },
   "file_extension": ".py",
   "mimetype": "text/x-python",
   "name": "python",
   "nbconvert_exporter": "python",
   "pygments_lexer": "ipython3",
   "version": "3.10.18"
  }
 },
 "nbformat": 4,
 "nbformat_minor": 5
}
